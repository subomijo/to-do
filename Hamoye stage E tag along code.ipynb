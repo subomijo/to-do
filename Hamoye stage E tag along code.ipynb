{
 "cells": [
  {
   "cell_type": "code",
   "execution_count": 28,
   "id": "709b2270",
   "metadata": {},
   "outputs": [
    {
     "name": "stderr",
     "output_type": "stream",
     "text": [
      "C:\\Users\\subomi\\anaconda3\\envs\\sesko\\lib\\site-packages\\tqdm\\auto.py:22: TqdmWarning: IProgress not found. Please update jupyter and ipywidgets. See https://ipywidgets.readthedocs.io/en/stable/user_install.html\n",
      "  from .autonotebook import tqdm as notebook_tqdm\n",
      "Importing plotly failed. Interactive plots will not work.\n"
     ]
    }
   ],
   "source": [
    "import numpy as np\n",
    "import pandas as pd\n",
    "import matplotlib.pyplot as plt\n",
    "import statsmodels.api as sm\n",
    "from pylab import rcParams\n",
    "from statsmodels.tsa.stattools import adfuller\n",
    "from statsmodels.tsa.stattools import acf, pacf\n",
    "from statsmodels.graphics.tsaplots import plot_acf, plot_pacf \n",
    "from prophet import Prophet"
   ]
  },
  {
   "cell_type": "code",
   "execution_count": 2,
   "id": "1103d51d",
   "metadata": {},
   "outputs": [
    {
     "data": {
      "text/plain": [
       "(92016, 5)"
      ]
     },
     "execution_count": 2,
     "metadata": {},
     "output_type": "execute_result"
    }
   ],
   "source": [
    "df = pd.read_csv(\"Time_series_analysis_and_forecast_DATASET.csv\")\n",
    "df.shape"
   ]
  },
  {
   "cell_type": "code",
   "execution_count": 3,
   "id": "b33dd3c1",
   "metadata": {},
   "outputs": [
    {
     "data": {
      "text/html": [
       "<div>\n",
       "<style scoped>\n",
       "    .dataframe tbody tr th:only-of-type {\n",
       "        vertical-align: middle;\n",
       "    }\n",
       "\n",
       "    .dataframe tbody tr th {\n",
       "        vertical-align: top;\n",
       "    }\n",
       "\n",
       "    .dataframe thead th {\n",
       "        text-align: right;\n",
       "    }\n",
       "</style>\n",
       "<table border=\"1\" class=\"dataframe\">\n",
       "  <thead>\n",
       "    <tr style=\"text-align: right;\">\n",
       "      <th></th>\n",
       "      <th>FullDate</th>\n",
       "      <th>Tmax</th>\n",
       "      <th>SysLoad</th>\n",
       "      <th>GasPrice</th>\n",
       "      <th>ElecPrice</th>\n",
       "    </tr>\n",
       "  </thead>\n",
       "  <tbody>\n",
       "    <tr>\n",
       "      <th>0</th>\n",
       "      <td>2010-09-01 00:00:00</td>\n",
       "      <td>15.8</td>\n",
       "      <td>1688.215</td>\n",
       "      <td>3.69</td>\n",
       "      <td>23.710</td>\n",
       "    </tr>\n",
       "    <tr>\n",
       "      <th>1</th>\n",
       "      <td>2010-09-01 01:00:00</td>\n",
       "      <td>15.8</td>\n",
       "      <td>1669.195</td>\n",
       "      <td>3.69</td>\n",
       "      <td>22.635</td>\n",
       "    </tr>\n",
       "    <tr>\n",
       "      <th>2</th>\n",
       "      <td>2010-09-01 02:00:00</td>\n",
       "      <td>15.8</td>\n",
       "      <td>1491.980</td>\n",
       "      <td>3.69</td>\n",
       "      <td>22.565</td>\n",
       "    </tr>\n",
       "    <tr>\n",
       "      <th>3</th>\n",
       "      <td>2010-09-01 03:00:00</td>\n",
       "      <td>15.8</td>\n",
       "      <td>1330.760</td>\n",
       "      <td>3.69</td>\n",
       "      <td>18.910</td>\n",
       "    </tr>\n",
       "    <tr>\n",
       "      <th>4</th>\n",
       "      <td>2010-09-01 04:00:00</td>\n",
       "      <td>15.8</td>\n",
       "      <td>1247.940</td>\n",
       "      <td>3.69</td>\n",
       "      <td>18.030</td>\n",
       "    </tr>\n",
       "  </tbody>\n",
       "</table>\n",
       "</div>"
      ],
      "text/plain": [
       "              FullDate  Tmax   SysLoad  GasPrice  ElecPrice\n",
       "0  2010-09-01 00:00:00  15.8  1688.215      3.69     23.710\n",
       "1  2010-09-01 01:00:00  15.8  1669.195      3.69     22.635\n",
       "2  2010-09-01 02:00:00  15.8  1491.980      3.69     22.565\n",
       "3  2010-09-01 03:00:00  15.8  1330.760      3.69     18.910\n",
       "4  2010-09-01 04:00:00  15.8  1247.940      3.69     18.030"
      ]
     },
     "execution_count": 3,
     "metadata": {},
     "output_type": "execute_result"
    }
   ],
   "source": [
    "df.head()"
   ]
  },
  {
   "cell_type": "code",
   "execution_count": 4,
   "id": "41fec769",
   "metadata": {},
   "outputs": [
    {
     "name": "stdout",
     "output_type": "stream",
     "text": [
      "<class 'pandas.core.frame.DataFrame'>\n",
      "RangeIndex: 92016 entries, 0 to 92015\n",
      "Data columns (total 5 columns):\n",
      " #   Column     Non-Null Count  Dtype  \n",
      "---  ------     --------------  -----  \n",
      " 0   FullDate   92016 non-null  object \n",
      " 1   Tmax       92016 non-null  float64\n",
      " 2   SysLoad    92016 non-null  float64\n",
      " 3   GasPrice   92016 non-null  float64\n",
      " 4   ElecPrice  92016 non-null  float64\n",
      "dtypes: float64(4), object(1)\n",
      "memory usage: 3.5+ MB\n"
     ]
    }
   ],
   "source": [
    "df.info()"
   ]
  },
  {
   "cell_type": "code",
   "execution_count": 5,
   "id": "911de1d6",
   "metadata": {},
   "outputs": [],
   "source": [
    "df[\"FullDate\"] = pd.to_datetime(df[\"FullDate\"])"
   ]
  },
  {
   "cell_type": "code",
   "execution_count": 6,
   "id": "b196b7d5",
   "metadata": {},
   "outputs": [
    {
     "name": "stdout",
     "output_type": "stream",
     "text": [
      "<class 'pandas.core.frame.DataFrame'>\n",
      "RangeIndex: 92016 entries, 0 to 92015\n",
      "Data columns (total 5 columns):\n",
      " #   Column     Non-Null Count  Dtype         \n",
      "---  ------     --------------  -----         \n",
      " 0   FullDate   92016 non-null  datetime64[ns]\n",
      " 1   Tmax       92016 non-null  float64       \n",
      " 2   SysLoad    92016 non-null  float64       \n",
      " 3   GasPrice   92016 non-null  float64       \n",
      " 4   ElecPrice  92016 non-null  float64       \n",
      "dtypes: datetime64[ns](1), float64(4)\n",
      "memory usage: 3.5 MB\n"
     ]
    }
   ],
   "source": [
    "df.info()"
   ]
  },
  {
   "cell_type": "code",
   "execution_count": 7,
   "id": "28a80995",
   "metadata": {},
   "outputs": [
    {
     "data": {
      "text/html": [
       "<div>\n",
       "<style scoped>\n",
       "    .dataframe tbody tr th:only-of-type {\n",
       "        vertical-align: middle;\n",
       "    }\n",
       "\n",
       "    .dataframe tbody tr th {\n",
       "        vertical-align: top;\n",
       "    }\n",
       "\n",
       "    .dataframe thead th {\n",
       "        text-align: right;\n",
       "    }\n",
       "</style>\n",
       "<table border=\"1\" class=\"dataframe\">\n",
       "  <thead>\n",
       "    <tr style=\"text-align: right;\">\n",
       "      <th></th>\n",
       "      <th>FullDate</th>\n",
       "      <th>Tmax</th>\n",
       "      <th>SysLoad</th>\n",
       "      <th>GasPrice</th>\n",
       "      <th>ElecPrice</th>\n",
       "    </tr>\n",
       "  </thead>\n",
       "  <tbody>\n",
       "    <tr>\n",
       "      <th>0</th>\n",
       "      <td>2010-09-01 00:00:00</td>\n",
       "      <td>15.8</td>\n",
       "      <td>1688.215</td>\n",
       "      <td>3.69</td>\n",
       "      <td>23.710</td>\n",
       "    </tr>\n",
       "    <tr>\n",
       "      <th>1</th>\n",
       "      <td>2010-09-01 01:00:00</td>\n",
       "      <td>15.8</td>\n",
       "      <td>1669.195</td>\n",
       "      <td>3.69</td>\n",
       "      <td>22.635</td>\n",
       "    </tr>\n",
       "    <tr>\n",
       "      <th>2</th>\n",
       "      <td>2010-09-01 02:00:00</td>\n",
       "      <td>15.8</td>\n",
       "      <td>1491.980</td>\n",
       "      <td>3.69</td>\n",
       "      <td>22.565</td>\n",
       "    </tr>\n",
       "    <tr>\n",
       "      <th>3</th>\n",
       "      <td>2010-09-01 03:00:00</td>\n",
       "      <td>15.8</td>\n",
       "      <td>1330.760</td>\n",
       "      <td>3.69</td>\n",
       "      <td>18.910</td>\n",
       "    </tr>\n",
       "    <tr>\n",
       "      <th>4</th>\n",
       "      <td>2010-09-01 04:00:00</td>\n",
       "      <td>15.8</td>\n",
       "      <td>1247.940</td>\n",
       "      <td>3.69</td>\n",
       "      <td>18.030</td>\n",
       "    </tr>\n",
       "  </tbody>\n",
       "</table>\n",
       "</div>"
      ],
      "text/plain": [
       "             FullDate  Tmax   SysLoad  GasPrice  ElecPrice\n",
       "0 2010-09-01 00:00:00  15.8  1688.215      3.69     23.710\n",
       "1 2010-09-01 01:00:00  15.8  1669.195      3.69     22.635\n",
       "2 2010-09-01 02:00:00  15.8  1491.980      3.69     22.565\n",
       "3 2010-09-01 03:00:00  15.8  1330.760      3.69     18.910\n",
       "4 2010-09-01 04:00:00  15.8  1247.940      3.69     18.030"
      ]
     },
     "execution_count": 7,
     "metadata": {},
     "output_type": "execute_result"
    }
   ],
   "source": [
    "df.head()"
   ]
  },
  {
   "cell_type": "code",
   "execution_count": 8,
   "id": "f06a2e6b",
   "metadata": {},
   "outputs": [
    {
     "data": {
      "text/html": [
       "<div>\n",
       "<style scoped>\n",
       "    .dataframe tbody tr th:only-of-type {\n",
       "        vertical-align: middle;\n",
       "    }\n",
       "\n",
       "    .dataframe tbody tr th {\n",
       "        vertical-align: top;\n",
       "    }\n",
       "\n",
       "    .dataframe thead th {\n",
       "        text-align: right;\n",
       "    }\n",
       "</style>\n",
       "<table border=\"1\" class=\"dataframe\">\n",
       "  <thead>\n",
       "    <tr style=\"text-align: right;\">\n",
       "      <th></th>\n",
       "      <th>ds</th>\n",
       "      <th>Tmax</th>\n",
       "      <th>SysLoad</th>\n",
       "      <th>GasPrice</th>\n",
       "      <th>y</th>\n",
       "    </tr>\n",
       "  </thead>\n",
       "  <tbody>\n",
       "    <tr>\n",
       "      <th>0</th>\n",
       "      <td>2010-09-01 00:00:00</td>\n",
       "      <td>15.8</td>\n",
       "      <td>1688.215</td>\n",
       "      <td>3.69</td>\n",
       "      <td>23.710</td>\n",
       "    </tr>\n",
       "    <tr>\n",
       "      <th>1</th>\n",
       "      <td>2010-09-01 01:00:00</td>\n",
       "      <td>15.8</td>\n",
       "      <td>1669.195</td>\n",
       "      <td>3.69</td>\n",
       "      <td>22.635</td>\n",
       "    </tr>\n",
       "    <tr>\n",
       "      <th>2</th>\n",
       "      <td>2010-09-01 02:00:00</td>\n",
       "      <td>15.8</td>\n",
       "      <td>1491.980</td>\n",
       "      <td>3.69</td>\n",
       "      <td>22.565</td>\n",
       "    </tr>\n",
       "    <tr>\n",
       "      <th>3</th>\n",
       "      <td>2010-09-01 03:00:00</td>\n",
       "      <td>15.8</td>\n",
       "      <td>1330.760</td>\n",
       "      <td>3.69</td>\n",
       "      <td>18.910</td>\n",
       "    </tr>\n",
       "    <tr>\n",
       "      <th>4</th>\n",
       "      <td>2010-09-01 04:00:00</td>\n",
       "      <td>15.8</td>\n",
       "      <td>1247.940</td>\n",
       "      <td>3.69</td>\n",
       "      <td>18.030</td>\n",
       "    </tr>\n",
       "  </tbody>\n",
       "</table>\n",
       "</div>"
      ],
      "text/plain": [
       "                   ds  Tmax   SysLoad  GasPrice       y\n",
       "0 2010-09-01 00:00:00  15.8  1688.215      3.69  23.710\n",
       "1 2010-09-01 01:00:00  15.8  1669.195      3.69  22.635\n",
       "2 2010-09-01 02:00:00  15.8  1491.980      3.69  22.565\n",
       "3 2010-09-01 03:00:00  15.8  1330.760      3.69  18.910\n",
       "4 2010-09-01 04:00:00  15.8  1247.940      3.69  18.030"
      ]
     },
     "execution_count": 8,
     "metadata": {},
     "output_type": "execute_result"
    }
   ],
   "source": [
    "df = df.rename(columns={ \"FullDate\" : \"ds\" , \"ElecPrice\" : \"y\" }) \n",
    "df.head()\n"
   ]
  },
  {
   "cell_type": "code",
   "execution_count": 11,
   "id": "0e3f61af",
   "metadata": {},
   "outputs": [
    {
     "data": {
      "text/html": [
       "<div>\n",
       "<style scoped>\n",
       "    .dataframe tbody tr th:only-of-type {\n",
       "        vertical-align: middle;\n",
       "    }\n",
       "\n",
       "    .dataframe tbody tr th {\n",
       "        vertical-align: top;\n",
       "    }\n",
       "\n",
       "    .dataframe thead th {\n",
       "        text-align: right;\n",
       "    }\n",
       "</style>\n",
       "<table border=\"1\" class=\"dataframe\">\n",
       "  <thead>\n",
       "    <tr style=\"text-align: right;\">\n",
       "      <th></th>\n",
       "      <th>Tmax</th>\n",
       "      <th>SysLoad</th>\n",
       "      <th>GasPrice</th>\n",
       "      <th>y</th>\n",
       "    </tr>\n",
       "    <tr>\n",
       "      <th>ds</th>\n",
       "      <th></th>\n",
       "      <th></th>\n",
       "      <th></th>\n",
       "      <th></th>\n",
       "    </tr>\n",
       "  </thead>\n",
       "  <tbody>\n",
       "    <tr>\n",
       "      <th>2010-09-01 00:00:00</th>\n",
       "      <td>15.8</td>\n",
       "      <td>1688.215</td>\n",
       "      <td>3.69</td>\n",
       "      <td>23.710</td>\n",
       "    </tr>\n",
       "    <tr>\n",
       "      <th>2010-09-01 01:00:00</th>\n",
       "      <td>15.8</td>\n",
       "      <td>1669.195</td>\n",
       "      <td>3.69</td>\n",
       "      <td>22.635</td>\n",
       "    </tr>\n",
       "    <tr>\n",
       "      <th>2010-09-01 02:00:00</th>\n",
       "      <td>15.8</td>\n",
       "      <td>1491.980</td>\n",
       "      <td>3.69</td>\n",
       "      <td>22.565</td>\n",
       "    </tr>\n",
       "    <tr>\n",
       "      <th>2010-09-01 03:00:00</th>\n",
       "      <td>15.8</td>\n",
       "      <td>1330.760</td>\n",
       "      <td>3.69</td>\n",
       "      <td>18.910</td>\n",
       "    </tr>\n",
       "    <tr>\n",
       "      <th>2010-09-01 04:00:00</th>\n",
       "      <td>15.8</td>\n",
       "      <td>1247.940</td>\n",
       "      <td>3.69</td>\n",
       "      <td>18.030</td>\n",
       "    </tr>\n",
       "  </tbody>\n",
       "</table>\n",
       "</div>"
      ],
      "text/plain": [
       "                     Tmax   SysLoad  GasPrice       y\n",
       "ds                                                   \n",
       "2010-09-01 00:00:00  15.8  1688.215      3.69  23.710\n",
       "2010-09-01 01:00:00  15.8  1669.195      3.69  22.635\n",
       "2010-09-01 02:00:00  15.8  1491.980      3.69  22.565\n",
       "2010-09-01 03:00:00  15.8  1330.760      3.69  18.910\n",
       "2010-09-01 04:00:00  15.8  1247.940      3.69  18.030"
      ]
     },
     "execution_count": 11,
     "metadata": {},
     "output_type": "execute_result"
    }
   ],
   "source": [
    "df.set_index(\"ds\", inplace=True)\n",
    "df.head()"
   ]
  },
  {
   "cell_type": "code",
   "execution_count": 12,
   "id": "035a117b",
   "metadata": {},
   "outputs": [
    {
     "data": {
      "text/html": [
       "<div>\n",
       "<style scoped>\n",
       "    .dataframe tbody tr th:only-of-type {\n",
       "        vertical-align: middle;\n",
       "    }\n",
       "\n",
       "    .dataframe tbody tr th {\n",
       "        vertical-align: top;\n",
       "    }\n",
       "\n",
       "    .dataframe thead th {\n",
       "        text-align: right;\n",
       "    }\n",
       "</style>\n",
       "<table border=\"1\" class=\"dataframe\">\n",
       "  <thead>\n",
       "    <tr style=\"text-align: right;\">\n",
       "      <th></th>\n",
       "      <th>Tmax</th>\n",
       "      <th>SysLoad</th>\n",
       "      <th>GasPrice</th>\n",
       "      <th>y</th>\n",
       "    </tr>\n",
       "    <tr>\n",
       "      <th>ds</th>\n",
       "      <th></th>\n",
       "      <th></th>\n",
       "      <th></th>\n",
       "      <th></th>\n",
       "    </tr>\n",
       "  </thead>\n",
       "  <tbody>\n",
       "    <tr>\n",
       "      <th>2010-09-01</th>\n",
       "      <td>15.8</td>\n",
       "      <td>1731.890833</td>\n",
       "      <td>3.69</td>\n",
       "      <td>114.654167</td>\n",
       "    </tr>\n",
       "    <tr>\n",
       "      <th>2010-09-02</th>\n",
       "      <td>15.4</td>\n",
       "      <td>1620.791250</td>\n",
       "      <td>3.69</td>\n",
       "      <td>23.783750</td>\n",
       "    </tr>\n",
       "    <tr>\n",
       "      <th>2010-09-03</th>\n",
       "      <td>18.3</td>\n",
       "      <td>1736.073333</td>\n",
       "      <td>4.45</td>\n",
       "      <td>21.040625</td>\n",
       "    </tr>\n",
       "    <tr>\n",
       "      <th>2010-09-04</th>\n",
       "      <td>13.7</td>\n",
       "      <td>1484.920208</td>\n",
       "      <td>3.39</td>\n",
       "      <td>20.928125</td>\n",
       "    </tr>\n",
       "    <tr>\n",
       "      <th>2010-09-05</th>\n",
       "      <td>14.9</td>\n",
       "      <td>1483.808750</td>\n",
       "      <td>4.45</td>\n",
       "      <td>20.856458</td>\n",
       "    </tr>\n",
       "  </tbody>\n",
       "</table>\n",
       "</div>"
      ],
      "text/plain": [
       "            Tmax      SysLoad  GasPrice           y\n",
       "ds                                                 \n",
       "2010-09-01  15.8  1731.890833      3.69  114.654167\n",
       "2010-09-02  15.4  1620.791250      3.69   23.783750\n",
       "2010-09-03  18.3  1736.073333      4.45   21.040625\n",
       "2010-09-04  13.7  1484.920208      3.39   20.928125\n",
       "2010-09-05  14.9  1483.808750      4.45   20.856458"
      ]
     },
     "execution_count": 12,
     "metadata": {},
     "output_type": "execute_result"
    }
   ],
   "source": [
    "df_daily = df.resample('D').mean()\n",
    "df_daily.head()"
   ]
  },
  {
   "cell_type": "code",
   "execution_count": 13,
   "id": "a122cba9",
   "metadata": {},
   "outputs": [
    {
     "data": {
      "text/plain": [
       "False"
      ]
     },
     "execution_count": 13,
     "metadata": {},
     "output_type": "execute_result"
    }
   ],
   "source": [
    "df_daily.isnull().values.any()"
   ]
  },
  {
   "cell_type": "code",
   "execution_count": 39,
   "id": "a875cd41",
   "metadata": {},
   "outputs": [],
   "source": [
    "X = df_daily.drop(columns=[\"Tmax\", \"SysLoad\", \"GasPrice\", \"y\"])\n",
    "y = df_daily[\"ds\" and \"y\"]"
   ]
  },
  {
   "cell_type": "code",
   "execution_count": 40,
   "id": "2240bdc5",
   "metadata": {},
   "outputs": [
    {
     "data": {
      "text/plain": [
       "2757"
      ]
     },
     "execution_count": 40,
     "metadata": {},
     "output_type": "execute_result"
    }
   ],
   "source": [
    "y_train = y.iloc[:2757]\n",
    "y_test = y.iloc[2757:]\n",
    "len(y_train)"
   ]
  },
  {
   "cell_type": "code",
   "execution_count": 41,
   "id": "12e82663",
   "metadata": {},
   "outputs": [
    {
     "data": {
      "text/plain": [
       "True"
      ]
     },
     "execution_count": 41,
     "metadata": {},
     "output_type": "execute_result"
    }
   ],
   "source": [
    "len(df_daily) == len(y_train) + len(y_test)"
   ]
  },
  {
   "cell_type": "code",
   "execution_count": 47,
   "id": "bf0185a1",
   "metadata": {},
   "outputs": [
    {
     "data": {
      "image/png": "[encoded data removed]",
      "text/plain": [
       "<Figure size 720x432 with 1 Axes>"
      ]
     },
     "metadata": {
      "needs_background": "light"
     },
     "output_type": "display_data"
    }
   ],
   "source": [
    "plt.figure(figsize=( 10 , 6 ))\n",
    "plt.plot(df.index, df.y, '--' , marker= '*' , )\n",
    "plt.grid()\n",
    "plt.xlabel( 'ds' )\n",
    "plt.ylabel( 'y' );"
   ]
  },
  {
   "cell_type": "code",
   "execution_count": 44,
   "id": "9cf97217",
   "metadata": {},
   "outputs": [
    {
     "data": {
      "text/plain": [
       "ds\n",
       "2010-09-01    114.654167\n",
       "2010-09-02     23.783750\n",
       "2010-09-03     21.040625\n",
       "2010-09-04     20.928125\n",
       "2010-09-05     20.856458\n",
       "Freq: D, Name: y, dtype: float64"
      ]
     },
     "execution_count": 44,
     "metadata": {},
     "output_type": "execute_result"
    }
   ],
   "source": [
    "y_train.head()"
   ]
  },
  {
   "cell_type": "code",
   "execution_count": null,
   "id": "6d5d9cad",
   "metadata": {},
   "outputs": [],
   "source": [
    "adfuller(df_daily, )"
   ]
  },
  {
   "cell_type": "code",
   "execution_count": 49,
   "id": "8db65028",
   "metadata": {},
   "outputs": [],
   "source": []
  },
  {
   "cell_type": "code",
   "execution_count": null,
   "id": "8fe0eebb",
   "metadata": {},
   "outputs": [],
   "source": []
  }
 ],
 "metadata": {
  "kernelspec": {
   "display_name": "Python 3 (ipykernel)",
   "language": "python",
   "name": "python3"
  },
  "language_info": {
   "codemirror_mode": {
    "name": "ipython",
    "version": 3
   },
   "file_extension": ".py",
   "mimetype": "text/x-python",
   "name": "python",
   "nbconvert_exporter": "python",
   "pygments_lexer": "ipython3",
   "version": "3.10.4"
  }
 },
 "nbformat": 4,
 "nbformat_minor": 5
}
